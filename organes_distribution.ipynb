{
 "cells": [
  {
   "cell_type": "code",
   "execution_count": 2,
   "id": "4a46e310",
   "metadata": {},
   "outputs": [
    {
     "name": "stdout",
     "output_type": "stream",
     "text": [
      "Collecting Unidecode\n",
      "  Downloading Unidecode-1.3.2-py3-none-any.whl (235 kB)\n",
      "Installing collected packages: Unidecode\n",
      "Successfully installed Unidecode-1.3.2\n",
      "Note: you may need to restart the kernel to use updated packages.\n"
     ]
    }
   ],
   "source": [
    "pip install Unidecode"
   ]
  },
  {
   "cell_type": "code",
   "execution_count": 1,
   "id": "5b99b30b",
   "metadata": {
    "scrolled": false
   },
   "outputs": [
    {
     "data": {
      "text/html": [
       "<div>\n",
       "<style scoped>\n",
       "    .dataframe tbody tr th:only-of-type {\n",
       "        vertical-align: middle;\n",
       "    }\n",
       "\n",
       "    .dataframe tbody tr th {\n",
       "        vertical-align: top;\n",
       "    }\n",
       "\n",
       "    .dataframe thead th {\n",
       "        text-align: right;\n",
       "    }\n",
       "</style>\n",
       "<table border=\"1\" class=\"dataframe\">\n",
       "  <thead>\n",
       "    <tr style=\"text-align: right;\">\n",
       "      <th></th>\n",
       "      <th>N° patient</th>\n",
       "      <th>Localisation</th>\n",
       "    </tr>\n",
       "  </thead>\n",
       "  <tbody>\n",
       "    <tr>\n",
       "      <th>0</th>\n",
       "      <td>1</td>\n",
       "      <td>Biopsie</td>\n",
       "    </tr>\n",
       "    <tr>\n",
       "      <th>1</th>\n",
       "      <td>2</td>\n",
       "      <td>Biopsie cerébrale</td>\n",
       "    </tr>\n",
       "    <tr>\n",
       "      <th>2</th>\n",
       "      <td>3</td>\n",
       "      <td>Os</td>\n",
       "    </tr>\n",
       "    <tr>\n",
       "      <th>3</th>\n",
       "      <td>4</td>\n",
       "      <td>Ganglion</td>\n",
       "    </tr>\n",
       "    <tr>\n",
       "      <th>4</th>\n",
       "      <td>5</td>\n",
       "      <td>Biopsie</td>\n",
       "    </tr>\n",
       "    <tr>\n",
       "      <th>...</th>\n",
       "      <td>...</td>\n",
       "      <td>...</td>\n",
       "    </tr>\n",
       "    <tr>\n",
       "      <th>212</th>\n",
       "      <td>213</td>\n",
       "      <td>Ganglion</td>\n",
       "    </tr>\n",
       "    <tr>\n",
       "      <th>213</th>\n",
       "      <td>214</td>\n",
       "      <td>Biopsie</td>\n",
       "    </tr>\n",
       "    <tr>\n",
       "      <th>214</th>\n",
       "      <td>215</td>\n",
       "      <td>Biopsie cavum</td>\n",
       "    </tr>\n",
       "    <tr>\n",
       "      <th>215</th>\n",
       "      <td>216</td>\n",
       "      <td>Ganglion</td>\n",
       "    </tr>\n",
       "    <tr>\n",
       "      <th>216</th>\n",
       "      <td>217</td>\n",
       "      <td>Biopsie</td>\n",
       "    </tr>\n",
       "  </tbody>\n",
       "</table>\n",
       "<p>217 rows × 2 columns</p>\n",
       "</div>"
      ],
      "text/plain": [
       "     N° patient       Localisation\n",
       "0             1            Biopsie\n",
       "1             2  Biopsie cerébrale\n",
       "2             3                 Os\n",
       "3             4           Ganglion\n",
       "4             5            Biopsie\n",
       "..          ...                ...\n",
       "212         213           Ganglion\n",
       "213         214            Biopsie\n",
       "214         215      Biopsie cavum\n",
       "215         216           Ganglion\n",
       "216         217            Biopsie\n",
       "\n",
       "[217 rows x 2 columns]"
      ]
     },
     "execution_count": 1,
     "metadata": {},
     "output_type": "execute_result"
    }
   ],
   "source": [
    "import pandas\n",
    "\n",
    "data = pandas.read_csv(\"localisation prélèvements.csv\", delimiter=\";\")\n",
    "data"
   ]
  },
  {
   "cell_type": "code",
   "execution_count": 2,
   "id": "7314b8ce",
   "metadata": {},
   "outputs": [
    {
     "data": {
      "text/plain": [
       "[RangeIndex(start=0, stop=217, step=1),\n",
       " Index(['N° patient', 'Localisation'], dtype='object')]"
      ]
     },
     "execution_count": 2,
     "metadata": {},
     "output_type": "execute_result"
    }
   ],
   "source": [
    "data.axes"
   ]
  },
  {
   "cell_type": "code",
   "execution_count": 8,
   "id": "7aa578c0",
   "metadata": {},
   "outputs": [
    {
     "name": "stdout",
     "output_type": "stream",
     "text": [
      "ganglion\n",
      "ganglion\n",
      "['ganglion']\n"
     ]
    }
   ],
   "source": [
    "import unicodedata\n",
    "\n",
    "s = data.at[3, \"Localisation\"].lower()\n",
    "print(s)\n",
    "s = unidecode.unidecode(s)\n",
    "print(s)\n",
    "print(s.split())"
   ]
  },
  {
   "cell_type": "code",
   "execution_count": 50,
   "id": "8fe3e179",
   "metadata": {},
   "outputs": [
    {
     "data": {
      "text/plain": [
       "{'autres': 70,\n",
       " 'cerveau': 30,\n",
       " 'os': 9,\n",
       " 'ganglion': 63,\n",
       " 'mediastin': 6,\n",
       " 'thyroide': 4,\n",
       " 'parotide': 2,\n",
       " 'clavicule': 1,\n",
       " 'testicule': 1,\n",
       " 'pharynx': 5,\n",
       " 'langue': 2,\n",
       " 'pericarde': 1,\n",
       " 'peau': 5,\n",
       " 'epiploon': 1,\n",
       " 'nez': 2,\n",
       " 'maxillaire': 1,\n",
       " 'hypochondre': 1,\n",
       " 'cervelet': 1,\n",
       " 'abdominale': 1,\n",
       " 'plevre': 3,\n",
       " 'colon': 1,\n",
       " 'rate': 1,\n",
       " 'grele': 1,\n",
       " 'ovaire': 1,\n",
       " 'lacrymale': 1,\n",
       " 'amygdale': 1,\n",
       " 'pancreas': 1,\n",
       " 'estomac': 1}"
      ]
     },
     "execution_count": 50,
     "metadata": {},
     "output_type": "execute_result"
    }
   ],
   "source": [
    "localisations = {\"autres\": 0}\n",
    "for _, k in data.iterrows():\n",
    "    if pandas.notna(k.values[-1]):\n",
    "        local = unidecode.unidecode(k.values[-1].lower()).split()[-1]\n",
    "        local = 'cerveau' if local == 'cerebrale' else local\n",
    "        local = 'peau' if local == 'cutanee' else local\n",
    "        local = 'plevre' if local == 'pleural' else local\n",
    "        local = 'biopsie' if local == 'biospsie' else local\n",
    "        local = 'nez' if local == 'sinus' else local\n",
    "        local = 'os' if local == 'mandibule' else local\n",
    "        local = 'pharynx' if local == 'cavum' else local\n",
    "        local = 'autres' if local == 'biopsie' else local\n",
    "        if local not in localisations.keys():\n",
    "            localisations[local] = 1\n",
    "        else:\n",
    "            localisations[local] += 1\n",
    "    else:\n",
    "        localisations[\"autres\"] += 1\n",
    "localisations"
   ]
  },
  {
   "cell_type": "code",
   "execution_count": 51,
   "id": "a6179277",
   "metadata": {
    "scrolled": true
   },
   "outputs": [],
   "source": [
    "import csv\n",
    "\n",
    "with open('test.csv', 'w') as f:\n",
    "    for key in localisations.keys():\n",
    "        f.write(\"%s;%s\\n\"%(key,localisations[key]))"
   ]
  }
 ],
 "metadata": {
  "kernelspec": {
   "display_name": "Python 3",
   "language": "python",
   "name": "python3"
  },
  "language_info": {
   "codemirror_mode": {
    "name": "ipython",
    "version": 3
   },
   "file_extension": ".py",
   "mimetype": "text/x-python",
   "name": "python",
   "nbconvert_exporter": "python",
   "pygments_lexer": "ipython3",
   "version": "3.8.8"
  }
 },
 "nbformat": 4,
 "nbformat_minor": 5
}
